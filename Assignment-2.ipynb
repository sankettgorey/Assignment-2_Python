{
 "cells": [
  {
   "cell_type": "markdown",
   "id": "69e9f92a",
   "metadata": {},
   "source": [
    "# Create the below pattern using nested for loop in Python."
   ]
  },
  {
   "cell_type": "code",
   "execution_count": 1,
   "id": "cacb41c9",
   "metadata": {},
   "outputs": [
    {
     "name": "stdout",
     "output_type": "stream",
     "text": [
      " *\n",
      " * *\n",
      " * * *\n",
      " * * * *\n",
      " * * * * *\n",
      " * * * *\n",
      " * * *\n",
      " * *\n",
      " *\n"
     ]
    }
   ],
   "source": [
    "i = 1\n",
    "j = 4\n",
    "for x in range(1,10):\n",
    "  if i<6:\n",
    "    print(i * ' *')\n",
    "    i = i + 1\n",
    "  else:\n",
    "    print(j * ' *')\n",
    "    j = j - 1"
   ]
  },
  {
   "cell_type": "markdown",
   "id": "0be1e1f9",
   "metadata": {},
   "source": [
    "# 2. Write a Python program to reverse a word after accepting the input from the user."
   ]
  },
  {
   "cell_type": "code",
   "execution_count": 3,
   "id": "de90d2d3",
   "metadata": {},
   "outputs": [
    {
     "name": "stdout",
     "output_type": "stream",
     "text": [
      "enter the wordSanket\n",
      "The reversed name is: teknaS\n"
     ]
    }
   ],
   "source": [
    "name = input('enter the word')\n",
    "\n",
    "name1 = name[::-1]\n",
    "print(f'The reversed name is: {name1}')"
   ]
  },
  {
   "cell_type": "code",
   "execution_count": null,
   "id": "0793e596",
   "metadata": {},
   "outputs": [],
   "source": []
  }
 ],
 "metadata": {
  "kernelspec": {
   "display_name": "Python 3",
   "language": "python",
   "name": "python3"
  },
  "language_info": {
   "codemirror_mode": {
    "name": "ipython",
    "version": 3
   },
   "file_extension": ".py",
   "mimetype": "text/x-python",
   "name": "python",
   "nbconvert_exporter": "python",
   "pygments_lexer": "ipython3",
   "version": "3.8.8"
  },
  "toc": {
   "base_numbering": 1,
   "nav_menu": {},
   "number_sections": true,
   "sideBar": true,
   "skip_h1_title": false,
   "title_cell": "Table of Contents",
   "title_sidebar": "Contents",
   "toc_cell": false,
   "toc_position": {},
   "toc_section_display": true,
   "toc_window_display": false
  }
 },
 "nbformat": 4,
 "nbformat_minor": 5
}
